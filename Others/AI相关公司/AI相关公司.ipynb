{
 "cells": [
  {
   "cell_type": "markdown",
   "id": "affd76e7-c0c0-4c8c-811f-796beee304c2",
   "metadata": {},
   "source": []
  },
  {
   "cell_type": "markdown",
   "id": "a80f7636-d042-4a99-b43a-03f3f6a34661",
   "metadata": {},
   "source": [
    "# AI相关公司"
   ]
  },
  {
   "cell_type": "markdown",
   "id": "26a47a09-1f79-4444-b831-21d344f5ea3c",
   "metadata": {},
   "source": []
  },
  {
   "cell_type": "markdown",
   "id": "a0fe1952-2959-4441-b788-41fe2804ec1c",
   "metadata": {},
   "source": [
    "## AI应用类"
   ]
  },
  {
   "cell_type": "markdown",
   "id": "512bde61-eb45-40b2-8587-ad3c09f85184",
   "metadata": {},
   "source": [
    "### 苏州千视通视觉科技股份有限公司\n",
    "- https://web.1000video.com.cn/\n",
    "- http://www.keensense.cn/lists/394.html"
   ]
  },
  {
   "cell_type": "markdown",
   "id": "92f1ef94-f26a-4fd2-bbea-dc412a51b4d8",
   "metadata": {},
   "source": []
  },
  {
   "cell_type": "markdown",
   "id": "47d2c519-d07d-4582-98ce-83a35fefa17f",
   "metadata": {},
   "source": []
  },
  {
   "cell_type": "markdown",
   "id": "db986fd7-2f10-4501-b52c-f92cdc4e6847",
   "metadata": {},
   "source": []
  },
  {
   "cell_type": "markdown",
   "id": "5bd3725f-2f97-4a6a-8bab-e47b9dc6b3df",
   "metadata": {},
   "source": []
  }
 ],
 "metadata": {
  "kernelspec": {
   "display_name": "Python 3 (ipykernel)",
   "language": "python",
   "name": "python3"
  },
  "language_info": {
   "codemirror_mode": {
    "name": "ipython",
    "version": 3
   },
   "file_extension": ".py",
   "mimetype": "text/x-python",
   "name": "python",
   "nbconvert_exporter": "python",
   "pygments_lexer": "ipython3",
   "version": "3.10.10"
  }
 },
 "nbformat": 4,
 "nbformat_minor": 5
}
