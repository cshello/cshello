{
 "cells": [
  {
   "cell_type": "markdown",
   "id": "12128c8e-68c6-4a2b-a307-23297f55ef25",
   "metadata": {},
   "source": [
    "# 优秀的网址和个人博客"
   ]
  },
  {
   "cell_type": "markdown",
   "id": "e9df25c8-f85e-4bd9-9422-b1fe8ad07a30",
   "metadata": {},
   "source": [
    "## 算法Github"
   ]
  },
  {
   "cell_type": "markdown",
   "id": "50b971fb-31a0-48f2-aa98-05e281725117",
   "metadata": {},
   "source": [
    "- [TheAlgorithms/Python](https://github.com/TheAlgorithms/Python)\n",
    "- [labuladong/fucking-algorithm](https://github.com/labuladong/fucking-algorithm)\n",
    "- [https://oi-wiki.org/](https://oi-wiki.org/)"
   ]
  },
  {
   "cell_type": "markdown",
   "id": "2c8d3d6f-1cd8-4ad4-8ad2-1492d9e11a65",
   "metadata": {},
   "source": []
  },
  {
   "cell_type": "code",
   "execution_count": null,
   "id": "da45d355-09b4-4534-b39b-b040a7510190",
   "metadata": {},
   "outputs": [],
   "source": []
  },
  {
   "cell_type": "code",
   "execution_count": null,
   "id": "835d82d1-f501-47f2-95fc-d1e841637776",
   "metadata": {},
   "outputs": [],
   "source": []
  },
  {
   "cell_type": "markdown",
   "id": "d0974b09-9eba-4a4b-a6dd-4813143635d0",
   "metadata": {},
   "source": [
    "## 图像处理相关"
   ]
  },
  {
   "cell_type": "markdown",
   "id": "98e65290-3e38-406f-849d-b850f620295f",
   "metadata": {},
   "source": [
    "- https://github.com/hermosayhl/image_processing/blob/main/README.md"
   ]
  },
  {
   "cell_type": "markdown",
   "id": "5032ffbe-9a82-4fb2-aee9-30f2ed73c780",
   "metadata": {},
   "source": []
  },
  {
   "cell_type": "markdown",
   "id": "f9d1dfb6-2199-41fb-bbc2-fd8eedfba224",
   "metadata": {},
   "source": [
    "## 博客类"
   ]
  },
  {
   "cell_type": "markdown",
   "id": "15597d00-6458-42e7-94ff-3c7753290782",
   "metadata": {},
   "source": [
    "- [博客主题](https://github.com/blinkfox/hexo-theme-matery)"
   ]
  },
  {
   "cell_type": "markdown",
   "id": "b5ca2e98-811f-4808-a951-400718b386bf",
   "metadata": {},
   "source": []
  },
  {
   "cell_type": "markdown",
   "id": "636c1859-9f47-4bbb-b21b-73f2d788bdc3",
   "metadata": {},
   "source": [
    "## HPC相关"
   ]
  },
  {
   "cell_type": "markdown",
   "id": "55cbb475-9b51-4482-8010-05d4a7d81724",
   "metadata": {},
   "source": [
    "- [parallel101](https://github.com/parallel101)"
   ]
  },
  {
   "cell_type": "markdown",
   "id": "e2d71bb7-4977-49a9-bd62-2dbab3d5fa14",
   "metadata": {},
   "source": []
  },
  {
   "cell_type": "code",
   "execution_count": null,
   "id": "22dbcd82-1062-410a-a103-ae7a83d74517",
   "metadata": {},
   "outputs": [],
   "source": []
  },
  {
   "cell_type": "code",
   "execution_count": null,
   "id": "a47d5d73-c038-4ccc-a93d-518ddf5849e7",
   "metadata": {},
   "outputs": [],
   "source": []
  },
  {
   "cell_type": "code",
   "execution_count": null,
   "id": "549555e7-f47a-4d9c-8bb2-978e2cc5eeb0",
   "metadata": {},
   "outputs": [],
   "source": []
  }
 ],
 "metadata": {
  "kernelspec": {
   "display_name": "Python 3 (ipykernel)",
   "language": "python",
   "name": "python3"
  },
  "language_info": {
   "codemirror_mode": {
    "name": "ipython",
    "version": 3
   },
   "file_extension": ".py",
   "mimetype": "text/x-python",
   "name": "python",
   "nbconvert_exporter": "python",
   "pygments_lexer": "ipython3",
   "version": "3.10.10"
  }
 },
 "nbformat": 4,
 "nbformat_minor": 5
}
