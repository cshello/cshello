{
 "cells": [
  {
   "cell_type": "markdown",
   "id": "a79ba0c0-0734-485d-8739-7e8bfd322717",
   "metadata": {},
   "source": []
  },
  {
   "cell_type": "markdown",
   "id": "a7df9851-f287-44bc-987f-7ed29ceb9052",
   "metadata": {},
   "source": [
    "# AI难点及解决方案"
   ]
  },
  {
   "cell_type": "markdown",
   "id": "83017361-4289-4912-b77e-91a40fb5fd26",
   "metadata": {},
   "source": [
    "## 多角度人脸模型融合  \n",
    "固定尺度和角度的人脸识别算法一般有很好的识别能力，如何把多角度多尺度的模型融合入一个模型？\n"
   ]
  },
  {
   "cell_type": "markdown",
   "id": "e88002bc-339e-466f-84d5-63d7816c1e97",
   "metadata": {},
   "source": []
  },
  {
   "cell_type": "markdown",
   "id": "a9a5e18c-a49d-4bc3-a1ff-74a591d2132b",
   "metadata": {},
   "source": []
  },
  {
   "cell_type": "markdown",
   "id": "0ca1912f-d8b6-4933-94e4-c7cc3b9c2fb3",
   "metadata": {},
   "source": []
  },
  {
   "cell_type": "markdown",
   "id": "26c5e1de-313b-43e7-8c1a-71d5a5ea3e93",
   "metadata": {},
   "source": []
  },
  {
   "cell_type": "markdown",
   "id": "59839b6f-50f4-4cdb-9d26-f781aeb30159",
   "metadata": {},
   "source": []
  },
  {
   "cell_type": "markdown",
   "id": "faf2fc89-11b6-4b7c-87ae-c8fce531e20a",
   "metadata": {},
   "source": []
  },
  {
   "cell_type": "markdown",
   "id": "4749208f-227a-4f3e-92c8-f8cd4f9af368",
   "metadata": {},
   "source": []
  },
  {
   "cell_type": "markdown",
   "id": "06817343-46b4-4380-ab23-c87dfe9eb89e",
   "metadata": {},
   "source": []
  },
  {
   "cell_type": "markdown",
   "id": "69ee6250-d79b-4c16-9534-282ea85f78fa",
   "metadata": {},
   "source": []
  },
  {
   "cell_type": "markdown",
   "id": "0564570b-9c06-4762-969a-79cbeaf5f212",
   "metadata": {},
   "source": []
  },
  {
   "cell_type": "markdown",
   "id": "2d88f312-3906-4ac9-a01c-27dbc96c3f7e",
   "metadata": {},
   "source": []
  }
 ],
 "metadata": {
  "kernelspec": {
   "display_name": "Python 3 (ipykernel)",
   "language": "python",
   "name": "python3"
  },
  "language_info": {
   "codemirror_mode": {
    "name": "ipython",
    "version": 3
   },
   "file_extension": ".py",
   "mimetype": "text/x-python",
   "name": "python",
   "nbconvert_exporter": "python",
   "pygments_lexer": "ipython3",
   "version": "3.10.10"
  }
 },
 "nbformat": 4,
 "nbformat_minor": 5
}
