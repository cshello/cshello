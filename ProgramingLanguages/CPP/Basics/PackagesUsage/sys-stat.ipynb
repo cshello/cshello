{
 "cells": [
  {
   "cell_type": "code",
   "execution_count": null,
   "id": "f6af37bd-8874-4bd3-9468-2f3f81172ebc",
   "metadata": {},
   "outputs": [],
   "source": []
  },
  {
   "cell_type": "code",
   "execution_count": 1,
   "id": "85be2798-f90d-4a52-ba61-8f46cf1054b0",
   "metadata": {
    "tags": []
   },
   "outputs": [],
   "source": [
    "#include <sys/stat.h>"
   ]
  },
  {
   "cell_type": "code",
   "execution_count": 2,
   "id": "6130a006-e3e6-4281-93e7-9fe1b9d46581",
   "metadata": {
    "tags": []
   },
   "outputs": [
    {
     "data": {
      "text/plain": [
       "0"
      ]
     },
     "execution_count": 2,
     "metadata": {},
     "output_type": "execute_result"
    }
   ],
   "source": [
    "struct stat buf;\n",
    "\n",
    "stat(\"/etc/hosts\", &buf)\n"
   ]
  },
  {
   "cell_type": "code",
   "execution_count": 14,
   "id": "f6aa2dc3-1cde-4c09-88da-0f5d7617b2e2",
   "metadata": {
    "tags": []
   },
   "outputs": [
    {
     "data": {
      "text/plain": [
       "64513"
      ]
     },
     "execution_count": 14,
     "metadata": {},
     "output_type": "execute_result"
    }
   ],
   "source": [
    "buf.st_dev"
   ]
  },
  {
   "cell_type": "code",
   "execution_count": 5,
   "id": "de95de27-2ca4-4301-9964-189a5f96bbac",
   "metadata": {
    "tags": []
   },
   "outputs": [
    {
     "data": {
      "text/plain": [
       "0"
      ]
     },
     "execution_count": 5,
     "metadata": {},
     "output_type": "execute_result"
    }
   ],
   "source": [
    "buf.st_uid"
   ]
  },
  {
   "cell_type": "code",
   "execution_count": 6,
   "id": "f7765fb5-67bc-48e9-82e8-3e2cc57f0049",
   "metadata": {
    "tags": []
   },
   "outputs": [
    {
     "data": {
      "text/plain": [
       "0"
      ]
     },
     "execution_count": 6,
     "metadata": {},
     "output_type": "execute_result"
    }
   ],
   "source": [
    "buf.st_gid"
   ]
  },
  {
   "cell_type": "code",
   "execution_count": 7,
   "id": "82996d75-b7f4-4439-87fb-e48e497184e7",
   "metadata": {
    "tags": []
   },
   "outputs": [
    {
     "data": {
      "text/plain": [
       "174"
      ]
     },
     "execution_count": 7,
     "metadata": {},
     "output_type": "execute_result"
    }
   ],
   "source": [
    "buf.st_size"
   ]
  },
  {
   "cell_type": "code",
   "execution_count": 15,
   "id": "10a7c1d2-6ea8-4397-a510-37165727e3f1",
   "metadata": {
    "tags": []
   },
   "outputs": [
    {
     "data": {
      "text/plain": [
       "1683419599"
      ]
     },
     "execution_count": 15,
     "metadata": {},
     "output_type": "execute_result"
    }
   ],
   "source": [
    "buf.st_atime"
   ]
  },
  {
   "cell_type": "code",
   "execution_count": 16,
   "id": "bb3c9780-ce0f-4a84-ae59-e04a12b15dc4",
   "metadata": {
    "tags": []
   },
   "outputs": [
    {
     "data": {
      "text/plain": [
       "1683419577"
      ]
     },
     "execution_count": 16,
     "metadata": {},
     "output_type": "execute_result"
    }
   ],
   "source": [
    "buf.st_mtime"
   ]
  },
  {
   "cell_type": "code",
   "execution_count": 10,
   "id": "751bf75b-58d3-40a0-9817-f7621713484d",
   "metadata": {
    "tags": []
   },
   "outputs": [
    {
     "data": {
      "text/plain": [
       "4096"
      ]
     },
     "execution_count": 10,
     "metadata": {},
     "output_type": "execute_result"
    }
   ],
   "source": [
    "buf.st_blksize"
   ]
  },
  {
   "cell_type": "code",
   "execution_count": 11,
   "id": "138dfb8f-6920-4600-b823-3f3d89255d65",
   "metadata": {
    "tags": []
   },
   "outputs": [
    {
     "data": {
      "text/plain": [
       "8"
      ]
     },
     "execution_count": 11,
     "metadata": {},
     "output_type": "execute_result"
    }
   ],
   "source": [
    "buf.st_blocks"
   ]
  },
  {
   "cell_type": "code",
   "execution_count": 13,
   "id": "3246242d-77a3-4f36-ab89-2f2d7a9993b5",
   "metadata": {
    "tags": []
   },
   "outputs": [
    {
     "name": "stdout",
     "output_type": "stream",
     "text": [
      "4.0K -rw-r--r-- 1 root root 174 May  7 08:32 /etc/hosts\n"
     ]
    }
   ],
   "source": [
    "!ls /etc/hosts -shl"
   ]
  },
  {
   "cell_type": "code",
   "execution_count": null,
   "id": "5a049f60-e17d-410c-9a6d-0c35648ee7c4",
   "metadata": {},
   "outputs": [],
   "source": []
  },
  {
   "cell_type": "code",
   "execution_count": null,
   "id": "0ebee529-2585-4ae7-89b6-c236e9442543",
   "metadata": {},
   "outputs": [],
   "source": []
  },
  {
   "cell_type": "code",
   "execution_count": null,
   "id": "4882ff67-893b-4e51-8d41-f81d4ab482a5",
   "metadata": {},
   "outputs": [],
   "source": []
  },
  {
   "cell_type": "code",
   "execution_count": null,
   "id": "3bd7d45a-8a67-4c35-9e6f-246a2e8c7545",
   "metadata": {},
   "outputs": [],
   "source": []
  },
  {
   "cell_type": "markdown",
   "id": "35e3e103-6459-4c5c-b514-3134f0cc562d",
   "metadata": {},
   "source": []
  },
  {
   "cell_type": "markdown",
   "id": "32142f6c-2d83-4c87-b03b-56b5dd61ea14",
   "metadata": {},
   "source": []
  },
  {
   "cell_type": "markdown",
   "id": "f9843229-f180-4100-92e3-07b0af548039",
   "metadata": {},
   "source": [
    "## Refer"
   ]
  },
  {
   "cell_type": "markdown",
   "id": "76b9bafa-d431-4b34-bed1-a59051053932",
   "metadata": {},
   "source": [
    "- https://pubs.opengroup.org/onlinepubs/7908799/xsh/sysstat.h.html"
   ]
  },
  {
   "cell_type": "code",
   "execution_count": null,
   "id": "83d2ad22-0242-4566-b3ea-2679f2992c62",
   "metadata": {},
   "outputs": [],
   "source": []
  }
 ],
 "metadata": {
  "kernelspec": {
   "display_name": "C++14",
   "language": "C++14",
   "name": "xcpp14"
  },
  "language_info": {
   "codemirror_mode": "text/x-c++src",
   "file_extension": ".cpp",
   "mimetype": "text/x-c++src",
   "name": "c++",
   "version": "14"
  }
 },
 "nbformat": 4,
 "nbformat_minor": 5
}
