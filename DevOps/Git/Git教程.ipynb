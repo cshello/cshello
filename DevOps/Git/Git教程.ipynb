{
 "cells": [
  {
   "cell_type": "code",
   "execution_count": null,
   "id": "e7787c38-bace-4d8d-a082-423edbc83900",
   "metadata": {},
   "outputs": [],
   "source": []
  },
  {
   "cell_type": "markdown",
   "id": "04e8db26-2f76-4736-9deb-f4e67cb231e4",
   "metadata": {},
   "source": [
    "# Git教程"
   ]
  },
  {
   "cell_type": "markdown",
   "id": "d4e744e4-213e-469b-95c5-42306238a64b",
   "metadata": {},
   "source": [
    "每一个都从init开始"
   ]
  },
  {
   "cell_type": "markdown",
   "id": "3377d9d6-51e3-4440-a18c-451bed479d62",
   "metadata": {},
   "source": []
  },
  {
   "cell_type": "markdown",
   "id": "82901eae-803e-4580-be28-f6fec99a4ab4",
   "metadata": {},
   "source": []
  },
  {
   "cell_type": "markdown",
   "id": "050be914-53de-4221-b27b-33fcd3137b3d",
   "metadata": {},
   "source": [
    "### 创建一个目录"
   ]
  },
  {
   "cell_type": "code",
   "execution_count": 5,
   "id": "5137ccfc-d18f-42c5-aa6c-345e7082c4cd",
   "metadata": {
    "tags": []
   },
   "outputs": [],
   "source": [
    "!mkdir build-GitTest"
   ]
  },
  {
   "cell_type": "code",
   "execution_count": 6,
   "id": "368b17ff-23a5-4f65-adcb-7b5dce7ab5b7",
   "metadata": {
    "tags": []
   },
   "outputs": [
    {
     "name": "stdout",
     "output_type": "stream",
     "text": [
      "/root/progs/wd_notes/cshello/DevOps/Git/build-GitTest\n",
      "/root/progs/wd_notes/cshello/DevOps/Git/build-GitTest/build-GitTest\n",
      "/root/progs/wd_notes/cshello/DevOps/Git/build-GitTest/build-GitTest\n"
     ]
    }
   ],
   "source": [
    "!pwd\n",
    "%cd build-GitTest\n",
    "!pwd"
   ]
  },
  {
   "cell_type": "code",
   "execution_count": 7,
   "id": "09341d99-fd56-49cb-87d1-1fac36b40e60",
   "metadata": {
    "tags": []
   },
   "outputs": [
    {
     "name": "stdout",
     "output_type": "stream",
     "text": [
      "Initialized empty Git repository in /root/progs/wd_notes/cshello/DevOps/Git/build-GitTest/build-GitTest/.git/\n"
     ]
    }
   ],
   "source": [
    "!git init"
   ]
  },
  {
   "cell_type": "code",
   "execution_count": null,
   "id": "f9450493-099f-4858-81e6-5a77f5e837f5",
   "metadata": {},
   "outputs": [],
   "source": []
  },
  {
   "cell_type": "markdown",
   "id": "87ead968-bcb4-40b6-b71a-3ecb6fafdddc",
   "metadata": {},
   "source": [
    "## 案例"
   ]
  },
  {
   "cell_type": "markdown",
   "id": "ba93636f-fc50-448d-9cfd-64a4c2deedbf",
   "metadata": {},
   "source": [
    "### 拉取指定分支的内容"
   ]
  },
  {
   "cell_type": "markdown",
   "id": "2ecdf550-4099-42ea-a99e-718543e8e8aa",
   "metadata": {},
   "source": [
    "```sh\n",
    "git clone --branch <branchname> --single-branch <remote-repo-url>\n",
    "git clone -b <branchname> --single-branch <remote-repo-url>\n",
    "#Refer https://www.freecodecamp.org/chinese/news/git-clone-branch-how-to-clone-a-specific-branch/\n",
    "```"
   ]
  },
  {
   "cell_type": "markdown",
   "id": "6b83247f-3f5c-4497-9fea-8b2ba6240175",
   "metadata": {},
   "source": []
  },
  {
   "cell_type": "markdown",
   "id": "ebd787f1-a740-4571-940e-2a35f4dc3348",
   "metadata": {},
   "source": []
  },
  {
   "cell_type": "markdown",
   "id": "393d2152-b89e-4bb0-985b-b1d2843229a5",
   "metadata": {},
   "source": []
  },
  {
   "cell_type": "markdown",
   "id": "bd3b4c7b-b6a3-4622-afb0-2940b9229971",
   "metadata": {},
   "source": []
  },
  {
   "cell_type": "markdown",
   "id": "ee84e44b-f8fc-4910-9350-b58219f7fb9d",
   "metadata": {},
   "source": []
  },
  {
   "cell_type": "markdown",
   "id": "b98db5c9-54de-4411-bb40-6809fc1aa0e5",
   "metadata": {},
   "source": []
  },
  {
   "cell_type": "markdown",
   "id": "78e00a2a-faff-4cae-a997-38ef90faeb8b",
   "metadata": {},
   "source": []
  },
  {
   "cell_type": "markdown",
   "id": "b6a99277-5faf-4719-9466-9669e7deb09c",
   "metadata": {},
   "source": []
  },
  {
   "cell_type": "markdown",
   "id": "e5915c21-0db9-4e05-a09a-ddcce8e21675",
   "metadata": {},
   "source": []
  },
  {
   "cell_type": "markdown",
   "id": "8d6577e3-547b-4f1e-9f43-e4f0242b705c",
   "metadata": {},
   "source": []
  },
  {
   "cell_type": "code",
   "execution_count": null,
   "id": "ebb8eb92-034a-48ba-87d6-43767ce246a4",
   "metadata": {},
   "outputs": [],
   "source": []
  }
 ],
 "metadata": {
  "kernelspec": {
   "display_name": "Python 3 (ipykernel)",
   "language": "python",
   "name": "python3"
  },
  "language_info": {
   "codemirror_mode": {
    "name": "ipython",
    "version": 3
   },
   "file_extension": ".py",
   "mimetype": "text/x-python",
   "name": "python",
   "nbconvert_exporter": "python",
   "pygments_lexer": "ipython3",
   "version": "3.10.10"
  },
  "toc-autonumbering": true
 },
 "nbformat": 4,
 "nbformat_minor": 5
}
