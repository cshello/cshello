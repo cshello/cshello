{
 "cells": [
  {
   "cell_type": "code",
   "execution_count": 1,
   "id": "0bc90361-3d99-4d78-80cf-902356a0a77d",
   "metadata": {
    "tags": []
   },
   "outputs": [],
   "source": [
    "import torch"
   ]
  },
  {
   "cell_type": "markdown",
   "id": "b42a9621-0a2b-439e-9211-5cf6c0edc0e4",
   "metadata": {},
   "source": [
    "# Function Usage"
   ]
  },
  {
   "cell_type": "markdown",
   "id": "8e113c58-e6a8-403d-b1f1-9f006a4f32a3",
   "metadata": {},
   "source": [
    "### abs"
   ]
  },
  {
   "cell_type": "code",
   "execution_count": 2,
   "id": "6bccb0a9-19ea-43c7-97aa-17d6b90cd992",
   "metadata": {
    "tags": []
   },
   "outputs": [
    {
     "data": {
      "text/plain": [
       "(tensor([2, 1, 0, 1, 3]), tensor([-2, -1,  0,  1,  3]))"
      ]
     },
     "execution_count": 2,
     "metadata": {},
     "output_type": "execute_result"
    }
   ],
   "source": [
    "a = torch.tensor([-2,-1,0,1,3])\n",
    "a.abs(), a"
   ]
  },
  {
   "cell_type": "code",
   "execution_count": 3,
   "id": "91a6d512-b6a9-4d2d-a53a-432ed1bffb79",
   "metadata": {
    "tags": []
   },
   "outputs": [
    {
     "data": {
      "text/plain": [
       "(tensor([2, 1, 0, 1, 3]), tensor([2, 1, 0, 1, 3]))"
      ]
     },
     "execution_count": 3,
     "metadata": {},
     "output_type": "execute_result"
    }
   ],
   "source": [
    "a = torch.tensor([-2,-1,0,1,3])\n",
    "torch.abs(a, out=a), a"
   ]
  },
  {
   "cell_type": "code",
   "execution_count": null,
   "id": "9a663735-40f6-4d82-91d3-8059057f4b39",
   "metadata": {},
   "outputs": [],
   "source": []
  },
  {
   "cell_type": "markdown",
   "id": "42bc6b7f-9ec5-4f8c-b35c-78deeee74820",
   "metadata": {},
   "source": [
    "### abs_"
   ]
  },
  {
   "cell_type": "code",
   "execution_count": 4,
   "id": "6828afcf-ef85-4630-bdbb-8443bd499eda",
   "metadata": {
    "tags": []
   },
   "outputs": [
    {
     "data": {
      "text/plain": [
       "(tensor([2, 1, 0, 1, 3]), tensor([2, 1, 0, 1, 3]))"
      ]
     },
     "execution_count": 4,
     "metadata": {},
     "output_type": "execute_result"
    }
   ],
   "source": [
    "a = torch.tensor([-2,-1,0,1,3])\n",
    "a.abs_(), a"
   ]
  },
  {
   "cell_type": "code",
   "execution_count": null,
   "id": "316943df-8d43-4d02-843a-d052f6426f7a",
   "metadata": {},
   "outputs": [],
   "source": []
  },
  {
   "cell_type": "markdown",
   "id": "a287602a-783f-48fd-a020-6c8f5f6ea1c1",
   "metadata": {},
   "source": [
    "### absolute"
   ]
  },
  {
   "cell_type": "code",
   "execution_count": 5,
   "id": "6ad3de75-b8cf-4c22-8c6c-7322dec192df",
   "metadata": {
    "tags": []
   },
   "outputs": [
    {
     "data": {
      "text/plain": [
       "tensor([1, 2])"
      ]
     },
     "execution_count": 5,
     "metadata": {},
     "output_type": "execute_result"
    }
   ],
   "source": [
    "torch.absolute(torch.tensor([-1,2]))"
   ]
  },
  {
   "cell_type": "markdown",
   "id": "0254fae6-1005-4478-9f48-7f1cc447aad6",
   "metadata": {},
   "source": [
    "### acos"
   ]
  },
  {
   "cell_type": "code",
   "execution_count": 6,
   "id": "253b151f-090a-40c5-acdc-3026629d2270",
   "metadata": {
    "tags": []
   },
   "outputs": [
    {
     "data": {
      "text/plain": [
       "tensor(3.1416)"
      ]
     },
     "execution_count": 6,
     "metadata": {},
     "output_type": "execute_result"
    }
   ],
   "source": [
    "torch.acos(torch.tensor(-1))"
   ]
  },
  {
   "cell_type": "markdown",
   "id": "d149db56-6836-445e-8163-e6e931703665",
   "metadata": {},
   "source": []
  },
  {
   "cell_type": "code",
   "execution_count": null,
   "id": "cfa5cf22-e937-4208-8393-27cd6a40c434",
   "metadata": {},
   "outputs": [],
   "source": []
  }
 ],
 "metadata": {
  "kernelspec": {
   "display_name": "Python 3 (ipykernel)",
   "language": "python",
   "name": "python3"
  },
  "language_info": {
   "codemirror_mode": {
    "name": "ipython",
    "version": 3
   },
   "file_extension": ".py",
   "mimetype": "text/x-python",
   "name": "python",
   "nbconvert_exporter": "python",
   "pygments_lexer": "ipython3",
   "version": "3.10.10"
  }
 },
 "nbformat": 4,
 "nbformat_minor": 5
}
